{
 "cells": [
  {
   "cell_type": "markdown",
   "metadata": {},
   "source": [
    "## Business scenario\n",
    "You are in charge of preprocessing the data your company wants to use in a new machine learning model. The model will be used to predict average influence of a journal, based on journal/publishing information coming from a variety of sources, including researchers, web scraping, and the publishers themselves.\n",
    "\n",
    "You've received raw data related to the business problem to solve. Your task is to better understand the data using some descriptive statistics. Once you understand the data, you will clean and reshape it. You will use the final processed dataset in your model. "
   ]
  },
  {
   "cell_type": "markdown",
   "metadata": {},
   "source": [
    "## Learning objectives\n",
    "1. Understand a business scenario and corresponding dataset by analyzing the data using descriptive statistics\n",
    "2. Use visualization tools to support this analysis: \n",
    "    - Scatter plots to spot correlations between features \n",
    "    - Box and whisker plots and histograms to understand the distribution of your data\n",
    "3. Use statistics tools to support previous analysis, such as a correlation matrix to quantify those relationships\n",
    "4. Based on the analysis conclusions, prepare a processed dataset for the model by:\n",
    "    - Dealing with outliers \n",
    "    - Dealing with missing values\n",
    "    - Cleaning the data"
   ]
  },
  {
   "cell_type": "code",
   "execution_count": 1,
   "metadata": {},
   "outputs": [],
   "source": [
    "import pandas as pd\n",
    "import numpy as np\n",
    "from matplotlib import pyplot as plt\n",
    "import seaborn as sns\n",
    "%matplotlib inline\n",
    "pd.set_option('display.max_colwidth', None)"
   ]
  },
  {
   "cell_type": "markdown",
   "metadata": {},
   "source": [
    "# Practice Exercise – Preprocessing\n",
    "\n",
    "The first rule in preprocessing is: **know your data!**\n",
    "\n",
    "Therefore, you are going to explore your data over several dimensions and views to bring your raw data to a state of processed data, ready to be used for your model.\n",
    "\n",
    "The **TBLF** approach is suggested:\n",
    "+ **Try:** Explore the problem (in this case, explore your data)\n",
    "+ **Broken?:** What is broken? (Do you see something wrong in your data)\n",
    "+ **Learn:** Why is it wrong? (What is wrong with this data? How can you solve it?)\n",
    "+ **Fix:** Fix the problem (What can I do to bring the wrong data to an acceptable solution?)"
   ]
  },
  {
   "cell_type": "markdown",
   "metadata": {},
   "source": [
    "## Dataset \n",
    "The data comes from a variety of sources, including researchers, web scraping, and the publishers themselves. The data has been manipulated to be suited for this preprocessing task."
   ]
  },
  {
   "cell_type": "markdown",
   "metadata": {},
   "source": [
    "## Data schema\n",
    "A dataset on journal/publisher information with estimated-article-influence-scores:\n",
    "+ journal_name: Name of the journal\n",
    "+ issn: Unique publication code\n",
    "+ citation_count_sum: Sum of the number of citations for each journal \n",
    "+ paper_count_sum: Sum of the number of papers for each journal\n",
    "+ avg_cites_per_paper: Average number of citations per paper\n",
    "+ ranking: Artificial label created for the exercise (possible values: A, B, C, D)\n",
    "+ proj_ai: Projected average influence"
   ]
  },
  {
   "cell_type": "markdown",
   "metadata": {},
   "source": [
    "Start by loading the file."
   ]
  },
  {
   "cell_type": "code",
   "execution_count": 2,
   "metadata": {},
   "outputs": [],
   "source": [
    "df_journals = pd.read_csv(\"estimated-article-influence-scores-Exerc2.csv\", sep=\";\")\n",
    "del df_journals[\"Unnamed: 0\"]"
   ]
  },
  {
   "cell_type": "markdown",
   "metadata": {},
   "source": [
    "## First glance at your data\n",
    "\n",
    "#### Learn\n",
    "How many features do you have?"
   ]
  },
  {
   "cell_type": "code",
   "execution_count": 3,
   "metadata": {},
   "outputs": [
    {
     "name": "stdout",
     "output_type": "stream",
     "text": [
      "Number of features: 7\n"
     ]
    }
   ],
   "source": [
    "print(\"Number of features: {}\".format(df_journals.shape[1]))"
   ]
  },
  {
   "cell_type": "markdown",
   "metadata": {},
   "source": [
    "How many samples do you have?"
   ]
  },
  {
   "cell_type": "code",
   "execution_count": 4,
   "metadata": {},
   "outputs": [
    {
     "name": "stdout",
     "output_type": "stream",
     "text": [
      "Number of samples: 3615\n"
     ]
    }
   ],
   "source": [
    "print(\"Number of samples: {}\".format(df_journals.shape[0]))"
   ]
  },
  {
   "cell_type": "markdown",
   "metadata": {},
   "source": [
    "> ### Question 1\n",
    "> #### Try\n",
    "> Print the first 10 rows to see what the data looks like. Apply the `head` function ([documentation](https://pandas.pydata.org/pandas-docs/stable/reference/api/pandas.DataFrame.head.html?highlight=head#pandas.DataFrame.head)) to your dataset."
   ]
  },
  {
   "cell_type": "code",
   "execution_count": 5,
   "metadata": {},
   "outputs": [
    {
     "data": {
      "text/html": [
       "<div>\n",
       "<style scoped>\n",
       "    .dataframe tbody tr th:only-of-type {\n",
       "        vertical-align: middle;\n",
       "    }\n",
       "\n",
       "    .dataframe tbody tr th {\n",
       "        vertical-align: top;\n",
       "    }\n",
       "\n",
       "    .dataframe thead th {\n",
       "        text-align: right;\n",
       "    }\n",
       "</style>\n",
       "<table border=\"1\" class=\"dataframe\">\n",
       "  <thead>\n",
       "    <tr style=\"text-align: right;\">\n",
       "      <th></th>\n",
       "      <th>issn</th>\n",
       "      <th>journal_name</th>\n",
       "      <th>citation_count_sum</th>\n",
       "      <th>paper_count_sum</th>\n",
       "      <th>avg_cites_per_paper</th>\n",
       "      <th>ranking</th>\n",
       "      <th>proj_ai</th>\n",
       "    </tr>\n",
       "  </thead>\n",
       "  <tbody>\n",
       "    <tr>\n",
       "      <th>0</th>\n",
       "      <td>2092-6731</td>\n",
       "      <td>3d research</td>\n",
       "      <td>151.0</td>\n",
       "      <td>106.0</td>\n",
       "      <td>1.424528</td>\n",
       "      <td>D</td>\n",
       "      <td>0.290</td>\n",
       "    </tr>\n",
       "    <tr>\n",
       "      <th>1</th>\n",
       "      <td>1530-9932</td>\n",
       "      <td>aaps pharmscitech</td>\n",
       "      <td>2208.0</td>\n",
       "      <td>801.0</td>\n",
       "      <td>2.756554</td>\n",
       "      <td>D</td>\n",
       "      <td>0.665</td>\n",
       "    </tr>\n",
       "    <tr>\n",
       "      <th>2</th>\n",
       "      <td>1687-0409</td>\n",
       "      <td>abstract and applied analysis</td>\n",
       "      <td>3005.0</td>\n",
       "      <td>2923.0</td>\n",
       "      <td>1.028053</td>\n",
       "      <td>B</td>\n",
       "      <td>0.192</td>\n",
       "    </tr>\n",
       "    <tr>\n",
       "      <th>3</th>\n",
       "      <td>1545-7230</td>\n",
       "      <td>academic psychiatry</td>\n",
       "      <td>537.0</td>\n",
       "      <td>490.0</td>\n",
       "      <td>1.095918</td>\n",
       "      <td>NaN</td>\n",
       "      <td>0.208</td>\n",
       "    </tr>\n",
       "    <tr>\n",
       "      <th>4</th>\n",
       "      <td>1936-4709</td>\n",
       "      <td>academic questions</td>\n",
       "      <td>40.0</td>\n",
       "      <td>67.0</td>\n",
       "      <td>0.597015</td>\n",
       "      <td>A</td>\n",
       "      <td>0.097</td>\n",
       "    </tr>\n",
       "    <tr>\n",
       "      <th>5</th>\n",
       "      <td>1432-0517</td>\n",
       "      <td>accreditation and quality assurance</td>\n",
       "      <td>255.0</td>\n",
       "      <td>331.0</td>\n",
       "      <td>0.770393</td>\n",
       "      <td>A</td>\n",
       "      <td>0.134</td>\n",
       "    </tr>\n",
       "    <tr>\n",
       "      <th>6</th>\n",
       "      <td>1839-2571</td>\n",
       "      <td>acoustics australia</td>\n",
       "      <td>30.0</td>\n",
       "      <td>25.0</td>\n",
       "      <td>1.200000</td>\n",
       "      <td>D</td>\n",
       "      <td>0.234</td>\n",
       "    </tr>\n",
       "    <tr>\n",
       "      <th>7</th>\n",
       "      <td>2199-6067</td>\n",
       "      <td>acrocephalus</td>\n",
       "      <td>9.0</td>\n",
       "      <td>15.0</td>\n",
       "      <td>0.600000</td>\n",
       "      <td>C</td>\n",
       "      <td>0.098</td>\n",
       "    </tr>\n",
       "    <tr>\n",
       "      <th>8</th>\n",
       "      <td>1846-0453</td>\n",
       "      <td>acta adriatica</td>\n",
       "      <td>28.0</td>\n",
       "      <td>37.0</td>\n",
       "      <td>0.756757</td>\n",
       "      <td>NaN</td>\n",
       "      <td>0.131</td>\n",
       "    </tr>\n",
       "    <tr>\n",
       "      <th>9</th>\n",
       "      <td>1854-1941</td>\n",
       "      <td>acta agriculturae slovenica</td>\n",
       "      <td>71.0</td>\n",
       "      <td>97.0</td>\n",
       "      <td>0.731959</td>\n",
       "      <td>C</td>\n",
       "      <td>0.125</td>\n",
       "    </tr>\n",
       "  </tbody>\n",
       "</table>\n",
       "</div>"
      ],
      "text/plain": [
       "        issn                         journal_name  citation_count_sum  \\\n",
       "0  2092-6731                          3d research               151.0   \n",
       "1  1530-9932                    aaps pharmscitech              2208.0   \n",
       "2  1687-0409        abstract and applied analysis              3005.0   \n",
       "3  1545-7230                  academic psychiatry               537.0   \n",
       "4  1936-4709                   academic questions                40.0   \n",
       "5  1432-0517  accreditation and quality assurance               255.0   \n",
       "6  1839-2571                  acoustics australia                30.0   \n",
       "7  2199-6067                         acrocephalus                 9.0   \n",
       "8  1846-0453                       acta adriatica                28.0   \n",
       "9  1854-1941          acta agriculturae slovenica                71.0   \n",
       "\n",
       "   paper_count_sum  avg_cites_per_paper ranking  proj_ai  \n",
       "0            106.0             1.424528       D    0.290  \n",
       "1            801.0             2.756554       D    0.665  \n",
       "2           2923.0             1.028053       B    0.192  \n",
       "3            490.0             1.095918     NaN    0.208  \n",
       "4             67.0             0.597015       A    0.097  \n",
       "5            331.0             0.770393       A    0.134  \n",
       "6             25.0             1.200000       D    0.234  \n",
       "7             15.0             0.600000       C    0.098  \n",
       "8             37.0             0.756757     NaN    0.131  \n",
       "9             97.0             0.731959       C    0.125  "
      ]
     },
     "execution_count": 5,
     "metadata": {},
     "output_type": "execute_result"
    }
   ],
   "source": [
    "# Enter your code here\n",
    "df_journals.head(10)"
   ]
  },
  {
   "cell_type": "markdown",
   "metadata": {},
   "source": [
    "## Dealing with missing values\n",
    "#### Learn\n",
    "Check how many values are missing for each column."
   ]
  },
  {
   "cell_type": "markdown",
   "metadata": {},
   "source": [
    "The **isnull()** command returns **True** for each cell of the dataset that is missing a value."
   ]
  },
  {
   "cell_type": "code",
   "execution_count": 6,
   "metadata": {},
   "outputs": [
    {
     "data": {
      "text/html": [
       "<div>\n",
       "<style scoped>\n",
       "    .dataframe tbody tr th:only-of-type {\n",
       "        vertical-align: middle;\n",
       "    }\n",
       "\n",
       "    .dataframe tbody tr th {\n",
       "        vertical-align: top;\n",
       "    }\n",
       "\n",
       "    .dataframe thead th {\n",
       "        text-align: right;\n",
       "    }\n",
       "</style>\n",
       "<table border=\"1\" class=\"dataframe\">\n",
       "  <thead>\n",
       "    <tr style=\"text-align: right;\">\n",
       "      <th></th>\n",
       "      <th>issn</th>\n",
       "      <th>journal_name</th>\n",
       "      <th>citation_count_sum</th>\n",
       "      <th>paper_count_sum</th>\n",
       "      <th>avg_cites_per_paper</th>\n",
       "      <th>ranking</th>\n",
       "      <th>proj_ai</th>\n",
       "    </tr>\n",
       "  </thead>\n",
       "  <tbody>\n",
       "    <tr>\n",
       "      <th>0</th>\n",
       "      <td>False</td>\n",
       "      <td>False</td>\n",
       "      <td>False</td>\n",
       "      <td>False</td>\n",
       "      <td>False</td>\n",
       "      <td>False</td>\n",
       "      <td>False</td>\n",
       "    </tr>\n",
       "    <tr>\n",
       "      <th>1</th>\n",
       "      <td>False</td>\n",
       "      <td>False</td>\n",
       "      <td>False</td>\n",
       "      <td>False</td>\n",
       "      <td>False</td>\n",
       "      <td>False</td>\n",
       "      <td>False</td>\n",
       "    </tr>\n",
       "    <tr>\n",
       "      <th>2</th>\n",
       "      <td>False</td>\n",
       "      <td>False</td>\n",
       "      <td>False</td>\n",
       "      <td>False</td>\n",
       "      <td>False</td>\n",
       "      <td>False</td>\n",
       "      <td>False</td>\n",
       "    </tr>\n",
       "    <tr>\n",
       "      <th>3</th>\n",
       "      <td>False</td>\n",
       "      <td>False</td>\n",
       "      <td>False</td>\n",
       "      <td>False</td>\n",
       "      <td>False</td>\n",
       "      <td>True</td>\n",
       "      <td>False</td>\n",
       "    </tr>\n",
       "    <tr>\n",
       "      <th>4</th>\n",
       "      <td>False</td>\n",
       "      <td>False</td>\n",
       "      <td>False</td>\n",
       "      <td>False</td>\n",
       "      <td>False</td>\n",
       "      <td>False</td>\n",
       "      <td>False</td>\n",
       "    </tr>\n",
       "    <tr>\n",
       "      <th>5</th>\n",
       "      <td>False</td>\n",
       "      <td>False</td>\n",
       "      <td>False</td>\n",
       "      <td>False</td>\n",
       "      <td>False</td>\n",
       "      <td>False</td>\n",
       "      <td>False</td>\n",
       "    </tr>\n",
       "    <tr>\n",
       "      <th>6</th>\n",
       "      <td>False</td>\n",
       "      <td>False</td>\n",
       "      <td>False</td>\n",
       "      <td>False</td>\n",
       "      <td>False</td>\n",
       "      <td>False</td>\n",
       "      <td>False</td>\n",
       "    </tr>\n",
       "    <tr>\n",
       "      <th>7</th>\n",
       "      <td>False</td>\n",
       "      <td>False</td>\n",
       "      <td>False</td>\n",
       "      <td>False</td>\n",
       "      <td>False</td>\n",
       "      <td>False</td>\n",
       "      <td>False</td>\n",
       "    </tr>\n",
       "    <tr>\n",
       "      <th>8</th>\n",
       "      <td>False</td>\n",
       "      <td>False</td>\n",
       "      <td>False</td>\n",
       "      <td>False</td>\n",
       "      <td>False</td>\n",
       "      <td>True</td>\n",
       "      <td>False</td>\n",
       "    </tr>\n",
       "    <tr>\n",
       "      <th>9</th>\n",
       "      <td>False</td>\n",
       "      <td>False</td>\n",
       "      <td>False</td>\n",
       "      <td>False</td>\n",
       "      <td>False</td>\n",
       "      <td>False</td>\n",
       "      <td>False</td>\n",
       "    </tr>\n",
       "  </tbody>\n",
       "</table>\n",
       "</div>"
      ],
      "text/plain": [
       "    issn  journal_name  citation_count_sum  paper_count_sum  \\\n",
       "0  False         False               False            False   \n",
       "1  False         False               False            False   \n",
       "2  False         False               False            False   \n",
       "3  False         False               False            False   \n",
       "4  False         False               False            False   \n",
       "5  False         False               False            False   \n",
       "6  False         False               False            False   \n",
       "7  False         False               False            False   \n",
       "8  False         False               False            False   \n",
       "9  False         False               False            False   \n",
       "\n",
       "   avg_cites_per_paper  ranking  proj_ai  \n",
       "0                False    False    False  \n",
       "1                False    False    False  \n",
       "2                False    False    False  \n",
       "3                False     True    False  \n",
       "4                False    False    False  \n",
       "5                False    False    False  \n",
       "6                False    False    False  \n",
       "7                False    False    False  \n",
       "8                False     True    False  \n",
       "9                False    False    False  "
      ]
     },
     "execution_count": 6,
     "metadata": {},
     "output_type": "execute_result"
    }
   ],
   "source": [
    "df_journals.isnull().head(10)"
   ]
  },
  {
   "cell_type": "markdown",
   "metadata": {},
   "source": [
    "#### Is it broken?\n",
    "This visualization is not practical for big datasets. You can try to sum all rows for each column. As all the values above are booleans, if you sum by column (feature), you will have the amount of **true** values--the number of missing values for each feature."
   ]
  },
  {
   "cell_type": "markdown",
   "metadata": {},
   "source": [
    "> ### Question 2\n",
    "> #### Fix\n",
    "> Apply the **.isnull()** function to your dataset as above, but concatenate the result with a **.sum()** function to show the number of missing values for each feature.<br/>\n",
    "\n",
    ">`isnull` ([documentation](https://pandas.pydata.org/pandas-docs/stable/reference/api/pandas.DataFrame.isnull.html?highlight=isnull#pandas.DataFrame.isnull))<br/>\n",
    ">`sum` ([documentation](https://pandas.pydata.org/pandas-docs/stable/reference/api/pandas.DataFrame.sum.html?highlight=sum#pandas.DataFrame.sum))"
   ]
  },
  {
   "cell_type": "code",
   "execution_count": 7,
   "metadata": {},
   "outputs": [
    {
     "data": {
      "text/plain": [
       "issn                     0\n",
       "journal_name             0\n",
       "citation_count_sum      12\n",
       "paper_count_sum         12\n",
       "avg_cites_per_paper     12\n",
       "ranking                633\n",
       "proj_ai                 12\n",
       "dtype: int64"
      ]
     },
     "execution_count": 7,
     "metadata": {},
     "output_type": "execute_result"
    }
   ],
   "source": [
    "# Enter your code here\n",
    "df_journals.isnull().sum()"
   ]
  },
  {
   "cell_type": "markdown",
   "metadata": {},
   "source": [
    "#### Learn\n",
    "You observed that there are missing values in the dataset."
   ]
  },
  {
   "cell_type": "markdown",
   "metadata": {},
   "source": [
    "Missing values are an important issue. Most models won't deal well with missing values.\n",
    "\n",
    "You can remove the missing values or impute values for them. Each choice has pros and cons, depending on the importance of the particular feature for your training job, if you can afford to remove those missing values, etc.\n",
    "\n",
    "The following command filters only the rows with `any` ([documentation](https://pandas.pydata.org/pandas-docs/stable/reference/api/pandas.DataFrame.any.html?highlight=any#pandas.DataFrame.any)) missing value. The first 10 rows display."
   ]
  },
  {
   "cell_type": "code",
   "execution_count": 8,
   "metadata": {},
   "outputs": [
    {
     "data": {
      "text/html": [
       "<div>\n",
       "<style scoped>\n",
       "    .dataframe tbody tr th:only-of-type {\n",
       "        vertical-align: middle;\n",
       "    }\n",
       "\n",
       "    .dataframe tbody tr th {\n",
       "        vertical-align: top;\n",
       "    }\n",
       "\n",
       "    .dataframe thead th {\n",
       "        text-align: right;\n",
       "    }\n",
       "</style>\n",
       "<table border=\"1\" class=\"dataframe\">\n",
       "  <thead>\n",
       "    <tr style=\"text-align: right;\">\n",
       "      <th></th>\n",
       "      <th>issn</th>\n",
       "      <th>journal_name</th>\n",
       "      <th>citation_count_sum</th>\n",
       "      <th>paper_count_sum</th>\n",
       "      <th>avg_cites_per_paper</th>\n",
       "      <th>ranking</th>\n",
       "      <th>proj_ai</th>\n",
       "    </tr>\n",
       "  </thead>\n",
       "  <tbody>\n",
       "    <tr>\n",
       "      <th>3</th>\n",
       "      <td>1545-7230</td>\n",
       "      <td>academic psychiatry</td>\n",
       "      <td>537.0</td>\n",
       "      <td>490.0</td>\n",
       "      <td>1.095918</td>\n",
       "      <td>NaN</td>\n",
       "      <td>0.208</td>\n",
       "    </tr>\n",
       "    <tr>\n",
       "      <th>8</th>\n",
       "      <td>1846-0453</td>\n",
       "      <td>acta adriatica</td>\n",
       "      <td>28.0</td>\n",
       "      <td>37.0</td>\n",
       "      <td>0.756757</td>\n",
       "      <td>NaN</td>\n",
       "      <td>0.131</td>\n",
       "    </tr>\n",
       "    <tr>\n",
       "      <th>18</th>\n",
       "      <td>1614-7065</td>\n",
       "      <td>acta chimica sinica</td>\n",
       "      <td>619.0</td>\n",
       "      <td>537.0</td>\n",
       "      <td>1.152700</td>\n",
       "      <td>NaN</td>\n",
       "      <td>0.222</td>\n",
       "    </tr>\n",
       "    <tr>\n",
       "      <th>25</th>\n",
       "      <td>1958-5454</td>\n",
       "      <td>acta endoscopica</td>\n",
       "      <td>31.0</td>\n",
       "      <td>70.0</td>\n",
       "      <td>0.442857</td>\n",
       "      <td>NaN</td>\n",
       "      <td>0.067</td>\n",
       "    </tr>\n",
       "    <tr>\n",
       "      <th>38</th>\n",
       "      <td>0386-300X</td>\n",
       "      <td>acta medica okayama</td>\n",
       "      <td>257.0</td>\n",
       "      <td>228.0</td>\n",
       "      <td>1.127193</td>\n",
       "      <td>NaN</td>\n",
       "      <td>0.216</td>\n",
       "    </tr>\n",
       "    <tr>\n",
       "      <th>46</th>\n",
       "      <td>1745-3674</td>\n",
       "      <td>acta orthopaedica</td>\n",
       "      <td>2364.0</td>\n",
       "      <td>611.0</td>\n",
       "      <td>3.869067</td>\n",
       "      <td>NaN</td>\n",
       "      <td>1.019</td>\n",
       "    </tr>\n",
       "    <tr>\n",
       "      <th>60</th>\n",
       "      <td>0303-464X</td>\n",
       "      <td>acta reumatologica portuguesa</td>\n",
       "      <td>213.0</td>\n",
       "      <td>205.0</td>\n",
       "      <td>1.039024</td>\n",
       "      <td>NaN</td>\n",
       "      <td>0.195</td>\n",
       "    </tr>\n",
       "    <tr>\n",
       "      <th>70</th>\n",
       "      <td>1940-0640</td>\n",
       "      <td>addiction science &amp; clinical practice</td>\n",
       "      <td>294.0</td>\n",
       "      <td>133.0</td>\n",
       "      <td>2.210526</td>\n",
       "      <td>NaN</td>\n",
       "      <td>0.504</td>\n",
       "    </tr>\n",
       "    <tr>\n",
       "      <th>91</th>\n",
       "      <td>1687-711X</td>\n",
       "      <td>advances in fuzzy systems</td>\n",
       "      <td>128.0</td>\n",
       "      <td>107.0</td>\n",
       "      <td>1.196262</td>\n",
       "      <td>NaN</td>\n",
       "      <td>0.233</td>\n",
       "    </tr>\n",
       "    <tr>\n",
       "      <th>95</th>\n",
       "      <td>1687-7365</td>\n",
       "      <td>advances in high energy physics</td>\n",
       "      <td>791.0</td>\n",
       "      <td>373.0</td>\n",
       "      <td>2.120643</td>\n",
       "      <td>NaN</td>\n",
       "      <td>0.478</td>\n",
       "    </tr>\n",
       "  </tbody>\n",
       "</table>\n",
       "</div>"
      ],
      "text/plain": [
       "         issn                           journal_name  citation_count_sum  \\\n",
       "3   1545-7230                    academic psychiatry               537.0   \n",
       "8   1846-0453                         acta adriatica                28.0   \n",
       "18  1614-7065                    acta chimica sinica               619.0   \n",
       "25  1958-5454                       acta endoscopica                31.0   \n",
       "38  0386-300X                    acta medica okayama               257.0   \n",
       "46  1745-3674                      acta orthopaedica              2364.0   \n",
       "60  0303-464X          acta reumatologica portuguesa               213.0   \n",
       "70  1940-0640  addiction science & clinical practice               294.0   \n",
       "91  1687-711X              advances in fuzzy systems               128.0   \n",
       "95  1687-7365        advances in high energy physics               791.0   \n",
       "\n",
       "    paper_count_sum  avg_cites_per_paper ranking  proj_ai  \n",
       "3             490.0             1.095918     NaN    0.208  \n",
       "8              37.0             0.756757     NaN    0.131  \n",
       "18            537.0             1.152700     NaN    0.222  \n",
       "25             70.0             0.442857     NaN    0.067  \n",
       "38            228.0             1.127193     NaN    0.216  \n",
       "46            611.0             3.869067     NaN    1.019  \n",
       "60            205.0             1.039024     NaN    0.195  \n",
       "70            133.0             2.210526     NaN    0.504  \n",
       "91            107.0             1.196262     NaN    0.233  \n",
       "95            373.0             2.120643     NaN    0.478  "
      ]
     },
     "execution_count": 8,
     "metadata": {},
     "output_type": "execute_result"
    }
   ],
   "source": [
    "df_journals_null_data = df_journals[df_journals.isnull().any(axis=1)]\n",
    "df_journals_null_data.head(10)"
   ]
  },
  {
   "cell_type": "markdown",
   "metadata": {},
   "source": [
    "## Dealing with missing values\n",
    "#### Fix\n",
    "Let's suppose you have decided to remove the rows with missing values.\n",
    "\n",
    "Remove the missing values by applying the `dropna` function ([documentation](https://pandas.pydata.org/pandas-docs/stable/reference/api/pandas.DataFrame.dropna.html?highlight=dropna#pandas.DataFrame.dropna)) to your dataset. Save the result in a new dataset named **df_journals_no_miss**. Use the `shape` function ([documentation](https://pandas.pydata.org/pandas-docs/stable/reference/api/pandas.DataFrame.shape.html?highlight=shape#pandas.DataFrame.shape)) after that to confirm that your dataset has fewer rows."
   ]
  },
  {
   "cell_type": "markdown",
   "metadata": {},
   "source": [
    "#### Learn\n",
    "How many rows are left?"
   ]
  },
  {
   "cell_type": "code",
   "execution_count": 9,
   "metadata": {},
   "outputs": [
    {
     "data": {
      "text/plain": [
       "(2972, 7)"
      ]
     },
     "execution_count": 9,
     "metadata": {},
     "output_type": "execute_result"
    }
   ],
   "source": [
    "df_journals_no_miss = df_journals.dropna()\n",
    "df_journals_no_miss.shape"
   ]
  },
  {
   "cell_type": "markdown",
   "metadata": {},
   "source": [
    "#### Learn\n",
    "Confirm that you have removed all missing values."
   ]
  },
  {
   "cell_type": "code",
   "execution_count": 10,
   "metadata": {},
   "outputs": [
    {
     "data": {
      "text/plain": [
       "issn                   False\n",
       "journal_name           False\n",
       "citation_count_sum     False\n",
       "paper_count_sum        False\n",
       "avg_cites_per_paper    False\n",
       "ranking                False\n",
       "proj_ai                False\n",
       "dtype: bool"
      ]
     },
     "execution_count": 10,
     "metadata": {},
     "output_type": "execute_result"
    }
   ],
   "source": [
    "df_journals_no_miss.isna().any()"
   ]
  },
  {
   "cell_type": "markdown",
   "metadata": {},
   "source": [
    "Now, suppose that you cannot afford to remove the rows with missing values. Maybe you don't want to reduce your already small dataset. "
   ]
  },
  {
   "cell_type": "markdown",
   "metadata": {},
   "source": [
    "## Imputing numerical values\n",
    "#### Learn\n",
    "One way to impute numerical values is to consider the mean of the feature (column) value. The following command calculates the mean of all numerical features in your dataset."
   ]
  },
  {
   "cell_type": "code",
   "execution_count": 11,
   "metadata": {},
   "outputs": [
    {
     "name": "stdout",
     "output_type": "stream",
     "text": [
      "citation_count_sum_MEAN: 1446.713849569803\n",
      "paper_count_sum_MEAN: 509.67110741049123\n",
      "avg_cites_per_paper_MEAN: 2.118970176206784\n",
      "proj_ai_MEAN: 0.5165542603386052\n"
     ]
    }
   ],
   "source": [
    "citation_count_sum_MEAN = df_journals[\"citation_count_sum\"].mean()\n",
    "paper_count_sum_MEAN = df_journals[\"paper_count_sum\"].mean()\n",
    "avg_cites_per_paper_MEAN = df_journals[\"avg_cites_per_paper\"].mean()\n",
    "proj_ai_MEAN = df_journals[\"proj_ai\"].mean()\n",
    "print(\"citation_count_sum_MEAN: {}\".format(citation_count_sum_MEAN))\n",
    "print(\"paper_count_sum_MEAN: {}\".format(paper_count_sum_MEAN))\n",
    "print(\"avg_cites_per_paper_MEAN: {}\".format(avg_cites_per_paper_MEAN))\n",
    "print(\"proj_ai_MEAN: {}\".format(proj_ai_MEAN))"
   ]
  },
  {
   "cell_type": "markdown",
   "metadata": {},
   "source": [
    "The following command updates each missing value with the calculated mean for the feature.\n",
    "\n",
    "**Note:** The `inplace` clause ([documentation](https://pandas.pydata.org/pandas-docs/stable/reference/api/pandas.DataFrame.fillna.html?highlight=fillna#pandas.DataFrame.fillna)) means that the update acts on the original dataset, so you don't need to attribute the result on a new dataset."
   ]
  },
  {
   "cell_type": "code",
   "execution_count": 12,
   "metadata": {},
   "outputs": [],
   "source": [
    "df_journals[\"citation_count_sum\"].fillna(citation_count_sum_MEAN, inplace=True)\n",
    "df_journals[\"paper_count_sum\"].fillna(paper_count_sum_MEAN, inplace=True)\n",
    "df_journals[\"avg_cites_per_paper\"].fillna(avg_cites_per_paper_MEAN, inplace=True)\n",
    "df_journals[\"proj_ai\"].fillna(proj_ai_MEAN, inplace=True)"
   ]
  },
  {
   "cell_type": "markdown",
   "metadata": {},
   "source": [
    "#### Learn\n",
    "Confirm that you have imputed for all of the numerical values. You will deal with categorical values next."
   ]
  },
  {
   "cell_type": "code",
   "execution_count": 13,
   "metadata": {},
   "outputs": [
    {
     "data": {
      "text/plain": [
       "issn                   False\n",
       "journal_name           False\n",
       "citation_count_sum     False\n",
       "paper_count_sum        False\n",
       "avg_cites_per_paper    False\n",
       "ranking                 True\n",
       "proj_ai                False\n",
       "dtype: bool"
      ]
     },
     "execution_count": 13,
     "metadata": {},
     "output_type": "execute_result"
    }
   ],
   "source": [
    "df_journals.isna().any()"
   ]
  },
  {
   "cell_type": "markdown",
   "metadata": {},
   "source": [
    "## Imputing categorical values\n",
    "#### Learn\n",
    "For categorical value imputation, a common approach is to use the most frequent value (the mode)."
   ]
  },
  {
   "cell_type": "markdown",
   "metadata": {},
   "source": [
    "#### Try\n",
    "Check the possible values for the \"ranking\" feature.\n",
    "\n",
    "Pandas has an interesting command that prints the frequency for categoricals: `value_counts` ([documentation](https://pandas.pydata.org/pandas-docs/stable/reference/api/pandas.Series.value_counts.html?highlight=value_counts#pandas.Series.value_counts)).\n",
    "\n",
    "Apply this command to the feature in your dataset to see the categoricals distribution of \"ranking\"."
   ]
  },
  {
   "cell_type": "code",
   "execution_count": 14,
   "metadata": {},
   "outputs": [
    {
     "data": {
      "text/plain": [
       "D    1222\n",
       "B     590\n",
       "A     589\n",
       "C     581\n",
       "Name: ranking, dtype: int64"
      ]
     },
     "execution_count": 14,
     "metadata": {},
     "output_type": "execute_result"
    }
   ],
   "source": [
    "df_journals[\"ranking\"].value_counts()"
   ]
  },
  {
   "cell_type": "markdown",
   "metadata": {},
   "source": [
    "Now, check for the most frequent value for the categorical feature. Use the `mode` function ([documentation](https://pandas.pydata.org/pandas-docs/stable/reference/api/pandas.DataFrame.mode.html?highlight=mode#pandas.DataFrame.mode)).\n",
    "\n",
    "**Note:** You can access the feature using `df_journals[\"ranking\"]` or `df_journals.ranking`."
   ]
  },
  {
   "cell_type": "code",
   "execution_count": 15,
   "metadata": {},
   "outputs": [
    {
     "data": {
      "text/plain": [
       "'D'"
      ]
     },
     "execution_count": 15,
     "metadata": {},
     "output_type": "execute_result"
    }
   ],
   "source": [
    "df_journals.ranking.mode()[0]"
   ]
  },
  {
   "cell_type": "markdown",
   "metadata": {},
   "source": [
    "#### Learn\n",
    "The command returned **D** as the most frequent value (the mode)."
   ]
  },
  {
   "cell_type": "markdown",
   "metadata": {},
   "source": [
    "Use the same command that you used to impute the numerical features to impute the most frequent ranking **D**."
   ]
  },
  {
   "cell_type": "code",
   "execution_count": 16,
   "metadata": {},
   "outputs": [],
   "source": [
    "df_journals[\"ranking\"].fillna('D', inplace=True)"
   ]
  },
  {
   "cell_type": "markdown",
   "metadata": {},
   "source": [
    "#### Learn\n",
    "Now, run the following command to see if you have any null values left. You should only have **False** values now."
   ]
  },
  {
   "cell_type": "code",
   "execution_count": 17,
   "metadata": {},
   "outputs": [
    {
     "data": {
      "text/plain": [
       "issn                   False\n",
       "journal_name           False\n",
       "citation_count_sum     False\n",
       "paper_count_sum        False\n",
       "avg_cites_per_paper    False\n",
       "ranking                False\n",
       "proj_ai                False\n",
       "dtype: bool"
      ]
     },
     "execution_count": 17,
     "metadata": {},
     "output_type": "execute_result"
    }
   ],
   "source": [
    "df_journals.isna().any()"
   ]
  },
  {
   "cell_type": "markdown",
   "metadata": {},
   "source": [
    "#### Learn\n",
    "To make sure the missing values turned into D, the **value_counts()** command should reflect that the new count for the categorical value **D** is the sum of the original one and the number of null values."
   ]
  },
  {
   "cell_type": "code",
   "execution_count": 18,
   "metadata": {},
   "outputs": [
    {
     "data": {
      "text/plain": [
       "D    1855\n",
       "B     590\n",
       "A     589\n",
       "C     581\n",
       "Name: ranking, dtype: int64"
      ]
     },
     "execution_count": 18,
     "metadata": {},
     "output_type": "execute_result"
    }
   ],
   "source": [
    "df_journals[\"ranking\"].value_counts()"
   ]
  },
  {
   "cell_type": "markdown",
   "metadata": {},
   "source": [
    "#### Is it broken?\n",
    "Unbalanced labels occur when the distribution between the labels presents some of them with much higher frequency than the others. For this dataset, it is not the case."
   ]
  },
  {
   "cell_type": "markdown",
   "metadata": {},
   "source": [
    "## Basic statistics for numerical values\n",
    "#### Exploring distributions\n",
    "##### Try\n",
    "Calculate the min value, max value, mean, standard deviation, and the 25% and 75% percentiles for each column. Use the `describe` command ([documentation](https://pandas.pydata.org/pandas-docs/stable/reference/api/pandas.DataFrame.describe.html?highlight=describe#pandas.DataFrame.describe))."
   ]
  },
  {
   "cell_type": "code",
   "execution_count": 19,
   "metadata": {},
   "outputs": [
    {
     "data": {
      "text/html": [
       "<div>\n",
       "<style scoped>\n",
       "    .dataframe tbody tr th:only-of-type {\n",
       "        vertical-align: middle;\n",
       "    }\n",
       "\n",
       "    .dataframe tbody tr th {\n",
       "        vertical-align: top;\n",
       "    }\n",
       "\n",
       "    .dataframe thead th {\n",
       "        text-align: right;\n",
       "    }\n",
       "</style>\n",
       "<table border=\"1\" class=\"dataframe\">\n",
       "  <thead>\n",
       "    <tr style=\"text-align: right;\">\n",
       "      <th></th>\n",
       "      <th>citation_count_sum</th>\n",
       "      <th>paper_count_sum</th>\n",
       "      <th>avg_cites_per_paper</th>\n",
       "      <th>proj_ai</th>\n",
       "    </tr>\n",
       "  </thead>\n",
       "  <tbody>\n",
       "    <tr>\n",
       "      <th>count</th>\n",
       "      <td>3615.000000</td>\n",
       "      <td>3615.000000</td>\n",
       "      <td>3615.000000</td>\n",
       "      <td>3615.000000</td>\n",
       "    </tr>\n",
       "    <tr>\n",
       "      <th>mean</th>\n",
       "      <td>1446.713850</td>\n",
       "      <td>509.671107</td>\n",
       "      <td>2.118970</td>\n",
       "      <td>0.516554</td>\n",
       "    </tr>\n",
       "    <tr>\n",
       "      <th>std</th>\n",
       "      <td>7983.573195</td>\n",
       "      <td>1920.708341</td>\n",
       "      <td>1.685032</td>\n",
       "      <td>0.571603</td>\n",
       "    </tr>\n",
       "    <tr>\n",
       "      <th>min</th>\n",
       "      <td>0.000000</td>\n",
       "      <td>1.000000</td>\n",
       "      <td>0.000000</td>\n",
       "      <td>0.000000</td>\n",
       "    </tr>\n",
       "    <tr>\n",
       "      <th>25%</th>\n",
       "      <td>151.000000</td>\n",
       "      <td>107.000000</td>\n",
       "      <td>1.056067</td>\n",
       "      <td>0.199000</td>\n",
       "    </tr>\n",
       "    <tr>\n",
       "      <th>50%</th>\n",
       "      <td>424.000000</td>\n",
       "      <td>240.000000</td>\n",
       "      <td>1.722628</td>\n",
       "      <td>0.368000</td>\n",
       "    </tr>\n",
       "    <tr>\n",
       "      <th>75%</th>\n",
       "      <td>1113.500000</td>\n",
       "      <td>520.500000</td>\n",
       "      <td>2.705021</td>\n",
       "      <td>0.649500</td>\n",
       "    </tr>\n",
       "    <tr>\n",
       "      <th>max</th>\n",
       "      <td>426949.000000</td>\n",
       "      <td>104705.000000</td>\n",
       "      <td>26.318824</td>\n",
       "      <td>11.367000</td>\n",
       "    </tr>\n",
       "  </tbody>\n",
       "</table>\n",
       "</div>"
      ],
      "text/plain": [
       "       citation_count_sum  paper_count_sum  avg_cites_per_paper      proj_ai\n",
       "count         3615.000000      3615.000000          3615.000000  3615.000000\n",
       "mean          1446.713850       509.671107             2.118970     0.516554\n",
       "std           7983.573195      1920.708341             1.685032     0.571603\n",
       "min              0.000000         1.000000             0.000000     0.000000\n",
       "25%            151.000000       107.000000             1.056067     0.199000\n",
       "50%            424.000000       240.000000             1.722628     0.368000\n",
       "75%           1113.500000       520.500000             2.705021     0.649500\n",
       "max         426949.000000    104705.000000            26.318824    11.367000"
      ]
     },
     "execution_count": 19,
     "metadata": {},
     "output_type": "execute_result"
    }
   ],
   "source": [
    "df_journals.describe()"
   ]
  },
  {
   "cell_type": "markdown",
   "metadata": {},
   "source": [
    ">### Question 3\n",
    "Plot the distribution of the \"avg_cites_per_paper\" feature. Use the `.plot.hist(bins=100)` function from matplotlib to plot the distribution of each feature.\n",
    "\n",
    ">`hist` ([documentation](https://matplotlib.org/3.1.1/api/_as_gen/matplotlib.pyplot.hist.html?highlight=hist#matplotlib.pyplot.hist))"
   ]
  },
  {
   "cell_type": "code",
   "execution_count": 20,
   "metadata": {},
   "outputs": [
    {
     "data": {
      "text/plain": [
       "<matplotlib.axes._subplots.AxesSubplot at 0x7fd72bd7ff28>"
      ]
     },
     "execution_count": 20,
     "metadata": {},
     "output_type": "execute_result"
    },
    {
     "data": {
      "image/png": "[encoded data removed]",
      "text/plain": [
       "<Figure size 432x288 with 1 Axes>"
      ]
     },
     "metadata": {
      "needs_background": "light"
     },
     "output_type": "display_data"
    }
   ],
   "source": [
    "# Enter your code here\n",
    "df_journals[\"avg_cites_per_paper\"].plot.hist(bins=100)"
   ]
  },
  {
   "cell_type": "markdown",
   "metadata": {},
   "source": [
    "## Box and whisker plots\n",
    "Box and whisker plots are great for spoting outliers. Let's explore using a box and whisker plot."
   ]
  },
  {
   "cell_type": "markdown",
   "metadata": {},
   "source": [
    ">### Question 4\n",
    ">#### Try\n",
    ">The same way you've plotted the distribution, now make a box and whisker plot using the `boxplot` function ([documentation](https://matplotlib.org/3.1.1/api/_as_gen/matplotlib.pyplot.boxplot.html?highlight=boxplot#matplotlib.pyplot.boxplot)) for the numerical feature \"avg_cites_per_paper\". "
   ]
  },
  {
   "cell_type": "code",
   "execution_count": 21,
   "metadata": {},
   "outputs": [
    {
     "data": {
      "text/plain": [
       "<matplotlib.axes._subplots.AxesSubplot at 0x7fd72b49bbe0>"
      ]
     },
     "execution_count": 21,
     "metadata": {},
     "output_type": "execute_result"
    },
    {
     "data": {
      "image/png": "[encoded data removed]",
      "text/plain": [
       "<Figure size 432x288 with 1 Axes>"
      ]
     },
     "metadata": {
      "needs_background": "light"
     },
     "output_type": "display_data"
    }
   ],
   "source": [
    "# Enter your code here\n",
    "df_journals.boxplot([\"avg_cites_per_paper\"])"
   ]
  },
  {
   "cell_type": "markdown",
   "metadata": {},
   "source": [
    "#### Learn \n",
    "Notice that the box and whisker plot helps to spot outliers."
   ]
  },
  {
   "cell_type": "markdown",
   "metadata": {},
   "source": [
    "#### Learn\n",
    "Now, let's use a more interesting technique to remove outliers using the percentiles.\n",
    "\n",
    "To print the percentiles of the dataset's numerical values, use the **.describe()** command."
   ]
  },
  {
   "cell_type": "code",
   "execution_count": 22,
   "metadata": {},
   "outputs": [
    {
     "data": {
      "text/html": [
       "<div>\n",
       "<style scoped>\n",
       "    .dataframe tbody tr th:only-of-type {\n",
       "        vertical-align: middle;\n",
       "    }\n",
       "\n",
       "    .dataframe tbody tr th {\n",
       "        vertical-align: top;\n",
       "    }\n",
       "\n",
       "    .dataframe thead th {\n",
       "        text-align: right;\n",
       "    }\n",
       "</style>\n",
       "<table border=\"1\" class=\"dataframe\">\n",
       "  <thead>\n",
       "    <tr style=\"text-align: right;\">\n",
       "      <th></th>\n",
       "      <th>citation_count_sum</th>\n",
       "      <th>paper_count_sum</th>\n",
       "      <th>avg_cites_per_paper</th>\n",
       "      <th>proj_ai</th>\n",
       "    </tr>\n",
       "  </thead>\n",
       "  <tbody>\n",
       "    <tr>\n",
       "      <th>count</th>\n",
       "      <td>3615.000000</td>\n",
       "      <td>3615.000000</td>\n",
       "      <td>3615.000000</td>\n",
       "      <td>3615.000000</td>\n",
       "    </tr>\n",
       "    <tr>\n",
       "      <th>mean</th>\n",
       "      <td>1446.713850</td>\n",
       "      <td>509.671107</td>\n",
       "      <td>2.118970</td>\n",
       "      <td>0.516554</td>\n",
       "    </tr>\n",
       "    <tr>\n",
       "      <th>std</th>\n",
       "      <td>7983.573195</td>\n",
       "      <td>1920.708341</td>\n",
       "      <td>1.685032</td>\n",
       "      <td>0.571603</td>\n",
       "    </tr>\n",
       "    <tr>\n",
       "      <th>min</th>\n",
       "      <td>0.000000</td>\n",
       "      <td>1.000000</td>\n",
       "      <td>0.000000</td>\n",
       "      <td>0.000000</td>\n",
       "    </tr>\n",
       "    <tr>\n",
       "      <th>25%</th>\n",
       "      <td>151.000000</td>\n",
       "      <td>107.000000</td>\n",
       "      <td>1.056067</td>\n",
       "      <td>0.199000</td>\n",
       "    </tr>\n",
       "    <tr>\n",
       "      <th>50%</th>\n",
       "      <td>424.000000</td>\n",
       "      <td>240.000000</td>\n",
       "      <td>1.722628</td>\n",
       "      <td>0.368000</td>\n",
       "    </tr>\n",
       "    <tr>\n",
       "      <th>75%</th>\n",
       "      <td>1113.500000</td>\n",
       "      <td>520.500000</td>\n",
       "      <td>2.705021</td>\n",
       "      <td>0.649500</td>\n",
       "    </tr>\n",
       "    <tr>\n",
       "      <th>max</th>\n",
       "      <td>426949.000000</td>\n",
       "      <td>104705.000000</td>\n",
       "      <td>26.318824</td>\n",
       "      <td>11.367000</td>\n",
       "    </tr>\n",
       "  </tbody>\n",
       "</table>\n",
       "</div>"
      ],
      "text/plain": [
       "       citation_count_sum  paper_count_sum  avg_cites_per_paper      proj_ai\n",
       "count         3615.000000      3615.000000          3615.000000  3615.000000\n",
       "mean          1446.713850       509.671107             2.118970     0.516554\n",
       "std           7983.573195      1920.708341             1.685032     0.571603\n",
       "min              0.000000         1.000000             0.000000     0.000000\n",
       "25%            151.000000       107.000000             1.056067     0.199000\n",
       "50%            424.000000       240.000000             1.722628     0.368000\n",
       "75%           1113.500000       520.500000             2.705021     0.649500\n",
       "max         426949.000000    104705.000000            26.318824    11.367000"
      ]
     },
     "execution_count": 22,
     "metadata": {},
     "output_type": "execute_result"
    }
   ],
   "source": [
    "df_journals.describe()"
   ]
  },
  {
   "cell_type": "markdown",
   "metadata": {},
   "source": [
    "You will use the 25%, 50%, and 75% percentiles (or quartiles) as a guideline to remove the outliers.\n",
    "\n",
    "For each feature, you will remove all data points outside the interquartile range (IQR), where:\n",
    "\n",
    "$$IQR = 75\\% \\space quartile - 25\\% \\space quartile$$\n",
    "$$Lower \\space Threshold = 50\\% \\space percentile - 1.5 * IQR$$\n",
    "$$Upper \\space Threshold = 50\\% \\space percentile + 1.5 * IQR$$\n",
    "\n",
    "The NumPy package has the `percentile` function ([documentation](https://docs.scipy.org/doc/numpy/reference/generated/numpy.percentile.html?highlight=percentile#numpy.percentile)) that can help you to get the threshold values."
   ]
  },
  {
   "cell_type": "markdown",
   "metadata": {},
   "source": [
    ">### Question 5 (Optional)\n",
    ">##### Try\n",
    ">**This question is optional and will not be graded**, but it is a nice way to exercise your curious side!\n",
    "\n",
    ">Implement the following algorithm using the NumPy **percentile** function. "
   ]
  },
  {
   "cell_type": "markdown",
   "metadata": {},
   "source": [
    "#### Fix\n",
    "Do the following for the \"citation_count_sum\" feature:\n",
    "+ Use the guidelines and **percentile** function above to calculate the thresholds for each feature.\n",
    "+ Remove the outliers outside this range for each feature.\n",
    "+ Plot the box and whisker plot again to see the results.\n",
    "+ Use the **shape** command before and after removal to see how many rows were removed."
   ]
  },
  {
   "cell_type": "code",
   "execution_count": 23,
   "metadata": {},
   "outputs": [
    {
     "name": "stdout",
     "output_type": "stream",
     "text": [
      "Number of samples before: 3615\n",
      "Number of samples after: 3066\n"
     ]
    },
    {
     "data": {
      "image/png": "[encoded data removed]",
      "text/plain": [
       "<Figure size 432x288 with 1 Axes>"
      ]
     },
     "metadata": {
      "needs_background": "light"
     },
     "output_type": "display_data"
    }
   ],
   "source": [
    "# Enter your code here\n",
    "print(\"Number of samples before: {}\".format(df_journals.shape[0]))\n",
    "# Save the quartiles\n",
    "citation_count_sum_25 = np.percentile(df_journals['citation_count_sum'], 25)\n",
    "citation_count_sum_50 = np.percentile(df_journals['citation_count_sum'], 50)\n",
    "citation_count_sum_75 = np.percentile(df_journals['citation_count_sum'], 75)\n",
    "\n",
    "# Calculate the thresholds\n",
    "IQR_citation_count_sum = citation_count_sum_75 - citation_count_sum_25\n",
    "Lower_Limit = citation_count_sum_50 - IQR_citation_count_sum * 1.5\n",
    "Upper_Limit = citation_count_sum_50 + IQR_citation_count_sum * 1.5\n",
    "\n",
    "# Remove the outliers\n",
    "df_journals = df_journals.loc[(df_journals['citation_count_sum'] > Lower_Limit) &\n",
    "                              (df_journals['citation_count_sum'] < Upper_Limit)]\n",
    "df_journals.boxplot([\"citation_count_sum\"])\n",
    "print(\"Number of samples after: {}\".format(df_journals.shape[0]))"
   ]
  },
  {
   "cell_type": "markdown",
   "metadata": {},
   "source": [
    "#### Learn\n",
    "Nice! You were successful in removing the outliers."
   ]
  },
  {
   "cell_type": "markdown",
   "metadata": {},
   "source": [
    "## Correlations: Multivariate statistics\n",
    "#### Try\n",
    "Use a correlation matrix for all features, plotting a scatter plot for each combination of numerical features in your dataset."
   ]
  },
  {
   "cell_type": "code",
   "execution_count": 24,
   "metadata": {},
   "outputs": [
    {
     "data": {
      "text/plain": [
       "<seaborn.axisgrid.PairGrid at 0x7fd72b3bb4e0>"
      ]
     },
     "execution_count": 24,
     "metadata": {},
     "output_type": "execute_result"
    },
    {
     "data": {
      "image/png": "[encoded data removed]",
      "text/plain": [
       "<Figure size 720x720 with 20 Axes>"
      ]
     },
     "metadata": {},
     "output_type": "display_data"
    }
   ],
   "source": [
    "sns.set(style=\"whitegrid\", context=\"notebook\")\n",
    "sns.pairplot(df_journals[[\"citation_count_sum\", \"paper_count_sum\",\n",
    "                        \"avg_cites_per_paper\",\"proj_ai\"]])"
   ]
  },
  {
   "cell_type": "markdown",
   "metadata": {},
   "source": [
    "#### Is it broken?\n",
    "There is one highly correlated feature."
   ]
  },
  {
   "cell_type": "markdown",
   "metadata": {},
   "source": [
    "#### Learn\n",
    "There is a strong nonlinear correlation between proj_ai x avg_cites_per_paper.\n",
    "There is also some correlation between other variables here.\n",
    "But we need numbers to make a decision whether to remove some highly correlated feature.\n",
    "For this, a heat map with values is useful."
   ]
  },
  {
   "cell_type": "markdown",
   "metadata": {},
   "source": [
    ">### Question 6\n",
    ">##### Try\n",
    ">Use the `corr` function ([documentation](https://pandas.pydata.org/pandas-docs/stable/reference/api/pandas.DataFrame.corr.html?highlight=corr#pandas.DataFrame.corr)) in the df_journal dataframe to print the correlations."
   ]
  },
  {
   "cell_type": "code",
   "execution_count": 25,
   "metadata": {},
   "outputs": [
    {
     "data": {
      "text/html": [
       "<div>\n",
       "<style scoped>\n",
       "    .dataframe tbody tr th:only-of-type {\n",
       "        vertical-align: middle;\n",
       "    }\n",
       "\n",
       "    .dataframe tbody tr th {\n",
       "        vertical-align: top;\n",
       "    }\n",
       "\n",
       "    .dataframe thead th {\n",
       "        text-align: right;\n",
       "    }\n",
       "</style>\n",
       "<table border=\"1\" class=\"dataframe\">\n",
       "  <thead>\n",
       "    <tr style=\"text-align: right;\">\n",
       "      <th></th>\n",
       "      <th>citation_count_sum</th>\n",
       "      <th>paper_count_sum</th>\n",
       "      <th>avg_cites_per_paper</th>\n",
       "      <th>proj_ai</th>\n",
       "    </tr>\n",
       "  </thead>\n",
       "  <tbody>\n",
       "    <tr>\n",
       "      <th>citation_count_sum</th>\n",
       "      <td>1.000000</td>\n",
       "      <td>0.726903</td>\n",
       "      <td>0.461533</td>\n",
       "      <td>0.412112</td>\n",
       "    </tr>\n",
       "    <tr>\n",
       "      <th>paper_count_sum</th>\n",
       "      <td>0.726903</td>\n",
       "      <td>1.000000</td>\n",
       "      <td>-0.027235</td>\n",
       "      <td>-0.042036</td>\n",
       "    </tr>\n",
       "    <tr>\n",
       "      <th>avg_cites_per_paper</th>\n",
       "      <td>0.461533</td>\n",
       "      <td>-0.027235</td>\n",
       "      <td>1.000000</td>\n",
       "      <td>0.987752</td>\n",
       "    </tr>\n",
       "    <tr>\n",
       "      <th>proj_ai</th>\n",
       "      <td>0.412112</td>\n",
       "      <td>-0.042036</td>\n",
       "      <td>0.987752</td>\n",
       "      <td>1.000000</td>\n",
       "    </tr>\n",
       "  </tbody>\n",
       "</table>\n",
       "</div>"
      ],
      "text/plain": [
       "                     citation_count_sum  paper_count_sum  avg_cites_per_paper  \\\n",
       "citation_count_sum             1.000000         0.726903             0.461533   \n",
       "paper_count_sum                0.726903         1.000000            -0.027235   \n",
       "avg_cites_per_paper            0.461533        -0.027235             1.000000   \n",
       "proj_ai                        0.412112        -0.042036             0.987752   \n",
       "\n",
       "                      proj_ai  \n",
       "citation_count_sum   0.412112  \n",
       "paper_count_sum     -0.042036  \n",
       "avg_cites_per_paper  0.987752  \n",
       "proj_ai              1.000000  "
      ]
     },
     "execution_count": 25,
     "metadata": {},
     "output_type": "execute_result"
    }
   ],
   "source": [
    "# Enter your code here\n",
    "corr = df_journals.corr()\n",
    "corr"
   ]
  },
  {
   "cell_type": "markdown",
   "metadata": {},
   "source": [
    "##### Learn\n",
    "Notice that the diagonal is always 1 (one), because it represents the variable against itself.\n",
    "\n",
    "##### Is it broken?\n",
    "The **proj_ai** and **avg_cites_per_paper** variables are highly correlated (over 99%). \n",
    "\n",
    "##### Fix\n",
    "Let's try removing one of them. You will remove the **proj_ai** feature from the dataset."
   ]
  },
  {
   "cell_type": "code",
   "execution_count": 26,
   "metadata": {},
   "outputs": [],
   "source": [
    "del df_journals[\"proj_ai\"]"
   ]
  },
  {
   "cell_type": "markdown",
   "metadata": {},
   "source": [
    "#### Learn\n",
    "Now, use another great tool, a `heatmap` ([documentation](https://pandas.pydata.org/pandas-docs/stable/reference/api/pandas.DataFrame.corr.html?highlight=corr#pandas.DataFrame.corr)), to confirm the correlation between the variables and the target, after removing the correlation. "
   ]
  },
  {
   "cell_type": "code",
   "execution_count": 27,
   "metadata": {},
   "outputs": [
    {
     "data": {
      "image/png": "[encoded data removed]",
      "text/plain": [
       "<Figure size 432x288 with 2 Axes>"
      ]
     },
     "metadata": {},
     "output_type": "display_data"
    }
   ],
   "source": [
    "corr = df_journals.corr()\n",
    "ax = sns.heatmap(corr, annot=True,)"
   ]
  },
  {
   "cell_type": "markdown",
   "metadata": {},
   "source": [
    "## Conclusion\n",
    "\n",
    "In this exercise, you practiced different ways to know your data.\n",
    "\n",
    "You explored your data over several dimensions and views to bring your raw data to a state of processed data, ready to be used for your model.\n",
    "\n",
    "You needed to understand a short business scenario and corresponding dataset. You analyzed the data using descriptive statistics to better understand it.\n",
    "\n",
    "You used visualization tools, including box and whisker plots and histograms, to support this analysis and understand the distribution of your data. You applied multivariate statistics with the help of scatter plots to spot correlations between features.\n",
    "\n",
    "In **question 1**, you discovered the importance of a first glance at your data. You looked at how many features there were and how many samples. You looked at the first lines to see if anything caught your attention, such as missing values.\n",
    "\n",
    "In **question 2**, you learned and practiced how to decide whether to remove or impute missing values. In the case of imputation, you practiced how to handle numerical or categorical imputation.\n",
    "\n",
    "**Questions 3** gave you an understanding of basic statistics that you can apply to your data. You practiced plotting the distribution of features.\n",
    "\n",
    "For **question 4**, you practiced with another important plot for numerical features: the box and whisker plot. This is a great tool for spotting outliers. \n",
    "\n",
    "**Question 5** showed you an interesting guideline for removing outliers using percentiles. You were challenged to implement the algorithm.\n",
    "\n",
    "Finally, in **question 6** you learned and practiced using multivariate techniques, such as a correlation matrix and scatter plot, to spot correlations between features and how to deal with that."
   ]
  },
  {
   "cell_type": "markdown",
   "metadata": {},
   "source": [
    "### Good work!\n",
    "Now you have a dataset cleaned and ready to pass to the modeling step.\n"
   ]
  }
 ],
 "metadata": {
  "kernelspec": {
   "display_name": "conda_python3",
   "language": "python",
   "name": "conda_python3"
  },
  "language_info": {
   "codemirror_mode": {
    "name": "ipython",
    "version": 3
   },
   "file_extension": ".py",
   "mimetype": "text/x-python",
   "name": "python",
   "nbconvert_exporter": "python",
   "pygments_lexer": "ipython3",
   "version": "3.6.10"
  }
 },
 "nbformat": 4,
 "nbformat_minor": 2
}
